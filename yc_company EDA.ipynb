{
 "cells": [
  {
   "cell_type": "markdown",
   "id": "b525f642-3153-48f7-85f7-a8332b051058",
   "metadata": {},
   "source": [
    "## YC company EXPLORATORY DATA ANALYSIS..."
   ]
  },
  {
   "cell_type": "code",
   "execution_count": 144,
   "id": "dbd52d35-7145-45e8-a3de-1c8e88bb39a5",
   "metadata": {},
   "outputs": [],
   "source": [
    "import json\n",
    "import pandas as pd\n",
    "\n",
    "# Read JSON file\n",
    "with open('company_data.json', 'r') as json_file:\n",
    "    data = json.load(json_file)\n",
    "\n",
    "# Initialize lists to store flattened data\n",
    "flattened_data = []\n",
    "\n",
    "# Flatten the nested structure\n",
    "for company in data:\n",
    "    # Check if the company dictionary is not empty and all required keys exist\n",
    "    if company and all(key in company for key in ['Name', 'Tagline', 'Description', 'Batch', 'Company Type', \n",
    "                                                  'Location', 'Website URL', 'Year Founded', 'Team Size', \n",
    "                                                  'LinkedIn Profile', 'Industry Tags', 'url']):\n",
    "        flattened_company = {\n",
    "            'Name': company.get('Name'),\n",
    "            'Tagline': company.get('Tagline'),\n",
    "            'Description': company.get('Description'),\n",
    "            'Batch': company.get('Batch'),\n",
    "            'Company Type': company.get('Company Type'),\n",
    "            'Location': company.get('Location'),\n",
    "            'Website URL': company.get('Website URL'),\n",
    "            'Year Founded': company.get('Year Founded'),\n",
    "            'Team Size': company.get('Team Size'),\n",
    "            'LinkedIn Profile': company.get('LinkedIn Profile'),\n",
    "            'Twitter Handle': company.get('Twitter Handle'),\n",
    "            'Industry Tags': company.get('Industry Tags'),\n",
    "            'url': company.get('url')\n",
    "        }\n",
    "\n",
    "        # Extract founder information\n",
    "        founders = company.get('Founders', [])\n",
    "        for i in range(1, 5):\n",
    "            if i <= len(founders):\n",
    "                founder = founders[i - 1]\n",
    "                flattened_company[f'Founder{i}_Name'] = founder.get('Name')\n",
    "                flattened_company[f'Founder{i}_Role'] = founder.get('Role')\n",
    "                flattened_company[f'Founder{i}_Biography'] = founder.get('Biography')\n",
    "                flattened_company[f'Founder{i}_LinkedIn Profile'] = founder.get('LinkedIn Profile')\n",
    "            else:\n",
    "                flattened_company[f'Founder{i}_Name'] = None\n",
    "                flattened_company[f'Founder{i}_Role'] = None\n",
    "                flattened_company[f'Founder{i}_Biography'] = None\n",
    "                flattened_company[f'Founder{i}_LinkedIn Profile'] = None\n",
    "\n",
    "        flattened_data.append(flattened_company)\n",
    "    else:\n",
    "        pass\n",
    "\n",
    "# Convert to DataFrame\n",
    "df = pd.DataFrame(flattened_data)\n",
    "\n",
    "# Write DataFrame to CSV file\n",
    "df.to_csv('company_data.csv', index=False)\n"
   ]
  },
  {
   "cell_type": "markdown",
   "id": "09c20289-e55a-494e-90d2-13098abd5514",
   "metadata": {},
   "source": [
    "it directly flattens the nested structure of the JSON data . It seems like there's an issue with one of the companies where the structure doesn't match what i expect,so, i includes a check to ensure that the company dictionary is not empty (if company) before attempting to access its keys. This should help handle cases where the structure of a company dictionary doesn't match what we expect."
   ]
  },
  {
   "cell_type": "code",
   "execution_count": 145,
   "id": "9d138225-bb7f-4cba-930c-b7d07b6cbe43",
   "metadata": {},
   "outputs": [
    {
     "data": {
      "text/html": [
       "<div>\n",
       "<style scoped>\n",
       "    .dataframe tbody tr th:only-of-type {\n",
       "        vertical-align: middle;\n",
       "    }\n",
       "\n",
       "    .dataframe tbody tr th {\n",
       "        vertical-align: top;\n",
       "    }\n",
       "\n",
       "    .dataframe thead th {\n",
       "        text-align: right;\n",
       "    }\n",
       "</style>\n",
       "<table border=\"1\" class=\"dataframe\">\n",
       "  <thead>\n",
       "    <tr style=\"text-align: right;\">\n",
       "      <th></th>\n",
       "      <th>Name</th>\n",
       "      <th>Tagline</th>\n",
       "      <th>Description</th>\n",
       "      <th>Batch</th>\n",
       "      <th>Company Type</th>\n",
       "      <th>Location</th>\n",
       "      <th>Website URL</th>\n",
       "      <th>Year Founded</th>\n",
       "      <th>Team Size</th>\n",
       "      <th>LinkedIn Profile</th>\n",
       "      <th>...</th>\n",
       "      <th>Founder2_Biography</th>\n",
       "      <th>Founder2_LinkedIn Profile</th>\n",
       "      <th>Founder3_Name</th>\n",
       "      <th>Founder3_Role</th>\n",
       "      <th>Founder3_Biography</th>\n",
       "      <th>Founder3_LinkedIn Profile</th>\n",
       "      <th>Founder4_Name</th>\n",
       "      <th>Founder4_Role</th>\n",
       "      <th>Founder4_Biography</th>\n",
       "      <th>Founder4_LinkedIn Profile</th>\n",
       "    </tr>\n",
       "  </thead>\n",
       "  <tbody>\n",
       "    <tr>\n",
       "      <th>0</th>\n",
       "      <td>TrueClaim</td>\n",
       "      <td>Automatically saving self-insured companies 7%...</td>\n",
       "      <td>TrueClaim processes all payments between healt...</td>\n",
       "      <td>W24</td>\n",
       "      <td>Active</td>\n",
       "      <td>Location:San Francisco</td>\n",
       "      <td>https://www.trytrueclaim.com</td>\n",
       "      <td>Founded:2023</td>\n",
       "      <td>Team Size:2</td>\n",
       "      <td>https://linkedin.com/in/rwbayer</td>\n",
       "      <td>...</td>\n",
       "      <td>Co-founder and CTO of TrueClaim (W24). Previou...</td>\n",
       "      <td>https://linkedin.com/in/rwbayer</td>\n",
       "      <td>None</td>\n",
       "      <td>None</td>\n",
       "      <td>None</td>\n",
       "      <td>None</td>\n",
       "      <td>None</td>\n",
       "      <td>None</td>\n",
       "      <td>None</td>\n",
       "      <td>None</td>\n",
       "    </tr>\n",
       "    <tr>\n",
       "      <th>1</th>\n",
       "      <td>CoCrafter</td>\n",
       "      <td>B2B construction marketplace to match contract...</td>\n",
       "      <td>CoCrafter is a construction marketplace to mat...</td>\n",
       "      <td>W24</td>\n",
       "      <td>Active</td>\n",
       "      <td>Location:Munich, Germany</td>\n",
       "      <td>https://cocrafter.com/</td>\n",
       "      <td>Founded:2023</td>\n",
       "      <td>Team Size:3</td>\n",
       "      <td>https://www.linkedin.com/in/annabell-v-86a73b227</td>\n",
       "      <td>...</td>\n",
       "      <td>Building CoCrafter to empower the long-tail co...</td>\n",
       "      <td>https://linkedin.com/in/philipp-rollwage</td>\n",
       "      <td>Annabell V.</td>\n",
       "      <td>None</td>\n",
       "      <td>Building CoCrafter - a construction marketplac...</td>\n",
       "      <td>https://www.linkedin.com/in/annabell-v-86a73b227</td>\n",
       "      <td>None</td>\n",
       "      <td>None</td>\n",
       "      <td>None</td>\n",
       "      <td>None</td>\n",
       "    </tr>\n",
       "    <tr>\n",
       "      <th>2</th>\n",
       "      <td>Reform</td>\n",
       "      <td>Retool for logistics companies</td>\n",
       "      <td>Reform makes it easy for logistics companies t...</td>\n",
       "      <td>W24</td>\n",
       "      <td>Active</td>\n",
       "      <td>Location:San Francisco</td>\n",
       "      <td>https://www.reformhq.com</td>\n",
       "      <td>Founded:2023</td>\n",
       "      <td>Team Size:3</td>\n",
       "      <td>https://linkedin.com/in/pradhit</td>\n",
       "      <td>...</td>\n",
       "      <td>Omar is the co-founder and president at Reform...</td>\n",
       "      <td>https://linkedin.com/in/omarabuhashish</td>\n",
       "      <td>Pradhit Gosula</td>\n",
       "      <td>None</td>\n",
       "      <td>Pradhit is co-founder and CTO of Reform. Previ...</td>\n",
       "      <td>https://linkedin.com/in/pradhit</td>\n",
       "      <td>None</td>\n",
       "      <td>None</td>\n",
       "      <td>None</td>\n",
       "      <td>None</td>\n",
       "    </tr>\n",
       "    <tr>\n",
       "      <th>3</th>\n",
       "      <td>Piramidal</td>\n",
       "      <td>Foundation Model for the Brain</td>\n",
       "      <td>Get instant diagnosis for the vast majority of...</td>\n",
       "      <td>W24</td>\n",
       "      <td>Active</td>\n",
       "      <td>Location:San Francisco</td>\n",
       "      <td>https://piramidal.ai</td>\n",
       "      <td>Founded:2024</td>\n",
       "      <td>Team Size:2</td>\n",
       "      <td>https://linkedin.com/in/kris-pahuja-a59a905b</td>\n",
       "      <td>...</td>\n",
       "      <td>co-founder and all things product and business...</td>\n",
       "      <td>https://linkedin.com/in/kris-pahuja-a59a905b</td>\n",
       "      <td>None</td>\n",
       "      <td>None</td>\n",
       "      <td>None</td>\n",
       "      <td>None</td>\n",
       "      <td>None</td>\n",
       "      <td>None</td>\n",
       "      <td>None</td>\n",
       "      <td>None</td>\n",
       "    </tr>\n",
       "    <tr>\n",
       "      <th>4</th>\n",
       "      <td>Junction Bioscience</td>\n",
       "      <td>AI Hypothesis Engine for Molecular Discovery</td>\n",
       "      <td>Junction Bioscience is building an autonomous ...</td>\n",
       "      <td>W24</td>\n",
       "      <td>Active</td>\n",
       "      <td>Location:San Francisco</td>\n",
       "      <td>https://www.junction.bio/</td>\n",
       "      <td>Founded:2024</td>\n",
       "      <td>Team Size:1</td>\n",
       "      <td>https://linkedin.com/in/brian-petkov-b2a63680</td>\n",
       "      <td>...</td>\n",
       "      <td>None</td>\n",
       "      <td>None</td>\n",
       "      <td>None</td>\n",
       "      <td>None</td>\n",
       "      <td>None</td>\n",
       "      <td>None</td>\n",
       "      <td>None</td>\n",
       "      <td>None</td>\n",
       "      <td>None</td>\n",
       "      <td>None</td>\n",
       "    </tr>\n",
       "    <tr>\n",
       "      <th>...</th>\n",
       "      <td>...</td>\n",
       "      <td>...</td>\n",
       "      <td>...</td>\n",
       "      <td>...</td>\n",
       "      <td>...</td>\n",
       "      <td>...</td>\n",
       "      <td>...</td>\n",
       "      <td>...</td>\n",
       "      <td>...</td>\n",
       "      <td>...</td>\n",
       "      <td>...</td>\n",
       "      <td>...</td>\n",
       "      <td>...</td>\n",
       "      <td>...</td>\n",
       "      <td>...</td>\n",
       "      <td>...</td>\n",
       "      <td>...</td>\n",
       "      <td>...</td>\n",
       "      <td>...</td>\n",
       "      <td>...</td>\n",
       "      <td>...</td>\n",
       "    </tr>\n",
       "    <tr>\n",
       "      <th>4265</th>\n",
       "      <td>Heroku</td>\n",
       "      <td>Enabling developers to build and run applicati...</td>\n",
       "      <td>Heroku, a Salesforce company and industry pion...</td>\n",
       "      <td>W08</td>\n",
       "      <td>Acquired</td>\n",
       "      <td>Location:San Francisco</td>\n",
       "      <td>http://heroku.com</td>\n",
       "      <td>Founded:2007</td>\n",
       "      <td>Team Size:300</td>\n",
       "      <td>https://www.linkedin.com/in/jameslindenbaum</td>\n",
       "      <td>...</td>\n",
       "      <td>None</td>\n",
       "      <td>None</td>\n",
       "      <td>None</td>\n",
       "      <td>None</td>\n",
       "      <td>None</td>\n",
       "      <td>None</td>\n",
       "      <td>None</td>\n",
       "      <td>None</td>\n",
       "      <td>None</td>\n",
       "      <td>None</td>\n",
       "    </tr>\n",
       "    <tr>\n",
       "      <th>4266</th>\n",
       "      <td>RescueTime</td>\n",
       "      <td>Take Back Control of your Time</td>\n",
       "      <td>RescueTime helps you set boundaries, protect f...</td>\n",
       "      <td>W08</td>\n",
       "      <td>Active</td>\n",
       "      <td>Location:Seattle, WA</td>\n",
       "      <td>http://rescuetime.com</td>\n",
       "      <td>Founded:2007</td>\n",
       "      <td>Team Size:15</td>\n",
       "      <td>https://www.linkedin.com/in/webwright</td>\n",
       "      <td>...</td>\n",
       "      <td>Product/Design/Growth.  Founded RescueTime (YC...</td>\n",
       "      <td>https://www.linkedin.com/in/webwright</td>\n",
       "      <td>None</td>\n",
       "      <td>None</td>\n",
       "      <td>None</td>\n",
       "      <td>None</td>\n",
       "      <td>None</td>\n",
       "      <td>None</td>\n",
       "      <td>None</td>\n",
       "      <td>None</td>\n",
       "    </tr>\n",
       "    <tr>\n",
       "      <th>4267</th>\n",
       "      <td>280 North</td>\n",
       "      <td></td>\n",
       "      <td>280 North is a web application company based o...</td>\n",
       "      <td>W08</td>\n",
       "      <td>Acquired</td>\n",
       "      <td>Location:San Francisco</td>\n",
       "      <td>http://280north.com</td>\n",
       "      <td>Founded:</td>\n",
       "      <td>Team Size:11</td>\n",
       "      <td>https://www.linkedin.com/in/tolmasky</td>\n",
       "      <td>...</td>\n",
       "      <td>None</td>\n",
       "      <td>None</td>\n",
       "      <td>None</td>\n",
       "      <td>None</td>\n",
       "      <td>None</td>\n",
       "      <td>None</td>\n",
       "      <td>None</td>\n",
       "      <td>None</td>\n",
       "      <td>None</td>\n",
       "      <td>None</td>\n",
       "    </tr>\n",
       "    <tr>\n",
       "      <th>4268</th>\n",
       "      <td>Omnisio</td>\n",
       "      <td>Edit and enhance online video. Acquired by Goo...</td>\n",
       "      <td>Omnisio was founded in 2007 by Ryan Junee, Sim...</td>\n",
       "      <td>W08</td>\n",
       "      <td>Acquired</td>\n",
       "      <td>Location:Atherton, CA</td>\n",
       "      <td>http://omnisio.com</td>\n",
       "      <td>Founded:</td>\n",
       "      <td>Team Size:0</td>\n",
       "      <td>http://www.linkedin.com/in/jfrumar/</td>\n",
       "      <td>...</td>\n",
       "      <td>None</td>\n",
       "      <td>None</td>\n",
       "      <td>None</td>\n",
       "      <td>None</td>\n",
       "      <td>None</td>\n",
       "      <td>None</td>\n",
       "      <td>None</td>\n",
       "      <td>None</td>\n",
       "      <td>None</td>\n",
       "      <td>None</td>\n",
       "    </tr>\n",
       "    <tr>\n",
       "      <th>4269</th>\n",
       "      <td>A Thinking Ape</td>\n",
       "      <td>We build communities through massively multipl...</td>\n",
       "      <td>Proudly recognized as one of CANADA'S TOP SMAL...</td>\n",
       "      <td>W08</td>\n",
       "      <td>Acquired</td>\n",
       "      <td>Location:Vancouver, Canada</td>\n",
       "      <td>http://athinkingape.com</td>\n",
       "      <td>Founded:2009</td>\n",
       "      <td>Team Size:75</td>\n",
       "      <td>https://linkedin.com/in/dieperic</td>\n",
       "      <td>...</td>\n",
       "      <td>https://ediep.ca</td>\n",
       "      <td>https://linkedin.com/in/dieperic</td>\n",
       "      <td>None</td>\n",
       "      <td>None</td>\n",
       "      <td>None</td>\n",
       "      <td>None</td>\n",
       "      <td>None</td>\n",
       "      <td>None</td>\n",
       "      <td>None</td>\n",
       "      <td>None</td>\n",
       "    </tr>\n",
       "  </tbody>\n",
       "</table>\n",
       "<p>4270 rows × 29 columns</p>\n",
       "</div>"
      ],
      "text/plain": [
       "                     Name                                            Tagline  \\\n",
       "0               TrueClaim  Automatically saving self-insured companies 7%...   \n",
       "1               CoCrafter  B2B construction marketplace to match contract...   \n",
       "2                  Reform                     Retool for logistics companies   \n",
       "3               Piramidal                     Foundation Model for the Brain   \n",
       "4     Junction Bioscience       AI Hypothesis Engine for Molecular Discovery   \n",
       "...                   ...                                                ...   \n",
       "4265               Heroku  Enabling developers to build and run applicati...   \n",
       "4266           RescueTime                     Take Back Control of your Time   \n",
       "4267            280 North                                                      \n",
       "4268              Omnisio  Edit and enhance online video. Acquired by Goo...   \n",
       "4269       A Thinking Ape  We build communities through massively multipl...   \n",
       "\n",
       "                                            Description Batch Company Type  \\\n",
       "0     TrueClaim processes all payments between healt...   W24       Active   \n",
       "1     CoCrafter is a construction marketplace to mat...   W24       Active   \n",
       "2     Reform makes it easy for logistics companies t...   W24       Active   \n",
       "3     Get instant diagnosis for the vast majority of...   W24       Active   \n",
       "4     Junction Bioscience is building an autonomous ...   W24       Active   \n",
       "...                                                 ...   ...          ...   \n",
       "4265  Heroku, a Salesforce company and industry pion...   W08     Acquired   \n",
       "4266  RescueTime helps you set boundaries, protect f...   W08       Active   \n",
       "4267  280 North is a web application company based o...   W08     Acquired   \n",
       "4268  Omnisio was founded in 2007 by Ryan Junee, Sim...   W08     Acquired   \n",
       "4269  Proudly recognized as one of CANADA'S TOP SMAL...   W08     Acquired   \n",
       "\n",
       "                        Location                   Website URL  Year Founded  \\\n",
       "0         Location:San Francisco  https://www.trytrueclaim.com  Founded:2023   \n",
       "1       Location:Munich, Germany        https://cocrafter.com/  Founded:2023   \n",
       "2         Location:San Francisco      https://www.reformhq.com  Founded:2023   \n",
       "3         Location:San Francisco          https://piramidal.ai  Founded:2024   \n",
       "4         Location:San Francisco     https://www.junction.bio/  Founded:2024   \n",
       "...                          ...                           ...           ...   \n",
       "4265      Location:San Francisco             http://heroku.com  Founded:2007   \n",
       "4266        Location:Seattle, WA         http://rescuetime.com  Founded:2007   \n",
       "4267      Location:San Francisco           http://280north.com      Founded:   \n",
       "4268       Location:Atherton, CA            http://omnisio.com      Founded:   \n",
       "4269  Location:Vancouver, Canada       http://athinkingape.com  Founded:2009   \n",
       "\n",
       "          Team Size                                  LinkedIn Profile  ...  \\\n",
       "0       Team Size:2                   https://linkedin.com/in/rwbayer  ...   \n",
       "1       Team Size:3  https://www.linkedin.com/in/annabell-v-86a73b227  ...   \n",
       "2       Team Size:3                   https://linkedin.com/in/pradhit  ...   \n",
       "3       Team Size:2      https://linkedin.com/in/kris-pahuja-a59a905b  ...   \n",
       "4       Team Size:1     https://linkedin.com/in/brian-petkov-b2a63680  ...   \n",
       "...             ...                                               ...  ...   \n",
       "4265  Team Size:300       https://www.linkedin.com/in/jameslindenbaum  ...   \n",
       "4266   Team Size:15             https://www.linkedin.com/in/webwright  ...   \n",
       "4267   Team Size:11              https://www.linkedin.com/in/tolmasky  ...   \n",
       "4268    Team Size:0               http://www.linkedin.com/in/jfrumar/  ...   \n",
       "4269   Team Size:75                  https://linkedin.com/in/dieperic  ...   \n",
       "\n",
       "                                     Founder2_Biography  \\\n",
       "0     Co-founder and CTO of TrueClaim (W24). Previou...   \n",
       "1     Building CoCrafter to empower the long-tail co...   \n",
       "2     Omar is the co-founder and president at Reform...   \n",
       "3     co-founder and all things product and business...   \n",
       "4                                                  None   \n",
       "...                                                 ...   \n",
       "4265                                               None   \n",
       "4266  Product/Design/Growth.  Founded RescueTime (YC...   \n",
       "4267                                               None   \n",
       "4268                                               None   \n",
       "4269                                   https://ediep.ca   \n",
       "\n",
       "                         Founder2_LinkedIn Profile   Founder3_Name  \\\n",
       "0                  https://linkedin.com/in/rwbayer            None   \n",
       "1         https://linkedin.com/in/philipp-rollwage     Annabell V.   \n",
       "2           https://linkedin.com/in/omarabuhashish  Pradhit Gosula   \n",
       "3     https://linkedin.com/in/kris-pahuja-a59a905b            None   \n",
       "4                                             None            None   \n",
       "...                                            ...             ...   \n",
       "4265                                          None            None   \n",
       "4266         https://www.linkedin.com/in/webwright            None   \n",
       "4267                                          None            None   \n",
       "4268                                          None            None   \n",
       "4269              https://linkedin.com/in/dieperic            None   \n",
       "\n",
       "     Founder3_Role                                 Founder3_Biography  \\\n",
       "0             None                                               None   \n",
       "1             None  Building CoCrafter - a construction marketplac...   \n",
       "2             None  Pradhit is co-founder and CTO of Reform. Previ...   \n",
       "3             None                                               None   \n",
       "4             None                                               None   \n",
       "...            ...                                                ...   \n",
       "4265          None                                               None   \n",
       "4266          None                                               None   \n",
       "4267          None                                               None   \n",
       "4268          None                                               None   \n",
       "4269          None                                               None   \n",
       "\n",
       "                             Founder3_LinkedIn Profile Founder4_Name  \\\n",
       "0                                                 None          None   \n",
       "1     https://www.linkedin.com/in/annabell-v-86a73b227          None   \n",
       "2                      https://linkedin.com/in/pradhit          None   \n",
       "3                                                 None          None   \n",
       "4                                                 None          None   \n",
       "...                                                ...           ...   \n",
       "4265                                              None          None   \n",
       "4266                                              None          None   \n",
       "4267                                              None          None   \n",
       "4268                                              None          None   \n",
       "4269                                              None          None   \n",
       "\n",
       "     Founder4_Role Founder4_Biography Founder4_LinkedIn Profile  \n",
       "0             None               None                      None  \n",
       "1             None               None                      None  \n",
       "2             None               None                      None  \n",
       "3             None               None                      None  \n",
       "4             None               None                      None  \n",
       "...            ...                ...                       ...  \n",
       "4265          None               None                      None  \n",
       "4266          None               None                      None  \n",
       "4267          None               None                      None  \n",
       "4268          None               None                      None  \n",
       "4269          None               None                      None  \n",
       "\n",
       "[4270 rows x 29 columns]"
      ]
     },
     "execution_count": 145,
     "metadata": {},
     "output_type": "execute_result"
    }
   ],
   "source": [
    "df"
   ]
  },
  {
   "cell_type": "markdown",
   "id": "c5df1509-5b09-4d68-89b1-5ac60886b87b",
   "metadata": {},
   "source": [
    "#### INITIAL EXPLORATION"
   ]
  },
  {
   "cell_type": "code",
   "execution_count": 146,
   "id": "b896e288-c4c1-4a8a-a6f5-5f4528544a9f",
   "metadata": {},
   "outputs": [
    {
     "data": {
      "text/html": [
       "<div>\n",
       "<style scoped>\n",
       "    .dataframe tbody tr th:only-of-type {\n",
       "        vertical-align: middle;\n",
       "    }\n",
       "\n",
       "    .dataframe tbody tr th {\n",
       "        vertical-align: top;\n",
       "    }\n",
       "\n",
       "    .dataframe thead th {\n",
       "        text-align: right;\n",
       "    }\n",
       "</style>\n",
       "<table border=\"1\" class=\"dataframe\">\n",
       "  <thead>\n",
       "    <tr style=\"text-align: right;\">\n",
       "      <th></th>\n",
       "      <th>Name</th>\n",
       "      <th>Tagline</th>\n",
       "      <th>Description</th>\n",
       "      <th>Batch</th>\n",
       "      <th>Company Type</th>\n",
       "      <th>Location</th>\n",
       "      <th>Website URL</th>\n",
       "      <th>Year Founded</th>\n",
       "      <th>Team Size</th>\n",
       "      <th>LinkedIn Profile</th>\n",
       "      <th>...</th>\n",
       "      <th>Founder2_Biography</th>\n",
       "      <th>Founder2_LinkedIn Profile</th>\n",
       "      <th>Founder3_Name</th>\n",
       "      <th>Founder3_Role</th>\n",
       "      <th>Founder3_Biography</th>\n",
       "      <th>Founder3_LinkedIn Profile</th>\n",
       "      <th>Founder4_Name</th>\n",
       "      <th>Founder4_Role</th>\n",
       "      <th>Founder4_Biography</th>\n",
       "      <th>Founder4_LinkedIn Profile</th>\n",
       "    </tr>\n",
       "  </thead>\n",
       "  <tbody>\n",
       "    <tr>\n",
       "      <th>0</th>\n",
       "      <td>TrueClaim</td>\n",
       "      <td>Automatically saving self-insured companies 7%...</td>\n",
       "      <td>TrueClaim processes all payments between healt...</td>\n",
       "      <td>W24</td>\n",
       "      <td>Active</td>\n",
       "      <td>Location:San Francisco</td>\n",
       "      <td>https://www.trytrueclaim.com</td>\n",
       "      <td>Founded:2023</td>\n",
       "      <td>Team Size:2</td>\n",
       "      <td>https://linkedin.com/in/rwbayer</td>\n",
       "      <td>...</td>\n",
       "      <td>Co-founder and CTO of TrueClaim (W24). Previou...</td>\n",
       "      <td>https://linkedin.com/in/rwbayer</td>\n",
       "      <td>None</td>\n",
       "      <td>None</td>\n",
       "      <td>None</td>\n",
       "      <td>None</td>\n",
       "      <td>None</td>\n",
       "      <td>None</td>\n",
       "      <td>None</td>\n",
       "      <td>None</td>\n",
       "    </tr>\n",
       "    <tr>\n",
       "      <th>1</th>\n",
       "      <td>CoCrafter</td>\n",
       "      <td>B2B construction marketplace to match contract...</td>\n",
       "      <td>CoCrafter is a construction marketplace to mat...</td>\n",
       "      <td>W24</td>\n",
       "      <td>Active</td>\n",
       "      <td>Location:Munich, Germany</td>\n",
       "      <td>https://cocrafter.com/</td>\n",
       "      <td>Founded:2023</td>\n",
       "      <td>Team Size:3</td>\n",
       "      <td>https://www.linkedin.com/in/annabell-v-86a73b227</td>\n",
       "      <td>...</td>\n",
       "      <td>Building CoCrafter to empower the long-tail co...</td>\n",
       "      <td>https://linkedin.com/in/philipp-rollwage</td>\n",
       "      <td>Annabell V.</td>\n",
       "      <td>None</td>\n",
       "      <td>Building CoCrafter - a construction marketplac...</td>\n",
       "      <td>https://www.linkedin.com/in/annabell-v-86a73b227</td>\n",
       "      <td>None</td>\n",
       "      <td>None</td>\n",
       "      <td>None</td>\n",
       "      <td>None</td>\n",
       "    </tr>\n",
       "    <tr>\n",
       "      <th>2</th>\n",
       "      <td>Reform</td>\n",
       "      <td>Retool for logistics companies</td>\n",
       "      <td>Reform makes it easy for logistics companies t...</td>\n",
       "      <td>W24</td>\n",
       "      <td>Active</td>\n",
       "      <td>Location:San Francisco</td>\n",
       "      <td>https://www.reformhq.com</td>\n",
       "      <td>Founded:2023</td>\n",
       "      <td>Team Size:3</td>\n",
       "      <td>https://linkedin.com/in/pradhit</td>\n",
       "      <td>...</td>\n",
       "      <td>Omar is the co-founder and president at Reform...</td>\n",
       "      <td>https://linkedin.com/in/omarabuhashish</td>\n",
       "      <td>Pradhit Gosula</td>\n",
       "      <td>None</td>\n",
       "      <td>Pradhit is co-founder and CTO of Reform. Previ...</td>\n",
       "      <td>https://linkedin.com/in/pradhit</td>\n",
       "      <td>None</td>\n",
       "      <td>None</td>\n",
       "      <td>None</td>\n",
       "      <td>None</td>\n",
       "    </tr>\n",
       "    <tr>\n",
       "      <th>3</th>\n",
       "      <td>Piramidal</td>\n",
       "      <td>Foundation Model for the Brain</td>\n",
       "      <td>Get instant diagnosis for the vast majority of...</td>\n",
       "      <td>W24</td>\n",
       "      <td>Active</td>\n",
       "      <td>Location:San Francisco</td>\n",
       "      <td>https://piramidal.ai</td>\n",
       "      <td>Founded:2024</td>\n",
       "      <td>Team Size:2</td>\n",
       "      <td>https://linkedin.com/in/kris-pahuja-a59a905b</td>\n",
       "      <td>...</td>\n",
       "      <td>co-founder and all things product and business...</td>\n",
       "      <td>https://linkedin.com/in/kris-pahuja-a59a905b</td>\n",
       "      <td>None</td>\n",
       "      <td>None</td>\n",
       "      <td>None</td>\n",
       "      <td>None</td>\n",
       "      <td>None</td>\n",
       "      <td>None</td>\n",
       "      <td>None</td>\n",
       "      <td>None</td>\n",
       "    </tr>\n",
       "    <tr>\n",
       "      <th>4</th>\n",
       "      <td>Junction Bioscience</td>\n",
       "      <td>AI Hypothesis Engine for Molecular Discovery</td>\n",
       "      <td>Junction Bioscience is building an autonomous ...</td>\n",
       "      <td>W24</td>\n",
       "      <td>Active</td>\n",
       "      <td>Location:San Francisco</td>\n",
       "      <td>https://www.junction.bio/</td>\n",
       "      <td>Founded:2024</td>\n",
       "      <td>Team Size:1</td>\n",
       "      <td>https://linkedin.com/in/brian-petkov-b2a63680</td>\n",
       "      <td>...</td>\n",
       "      <td>None</td>\n",
       "      <td>None</td>\n",
       "      <td>None</td>\n",
       "      <td>None</td>\n",
       "      <td>None</td>\n",
       "      <td>None</td>\n",
       "      <td>None</td>\n",
       "      <td>None</td>\n",
       "      <td>None</td>\n",
       "      <td>None</td>\n",
       "    </tr>\n",
       "  </tbody>\n",
       "</table>\n",
       "<p>5 rows × 29 columns</p>\n",
       "</div>"
      ],
      "text/plain": [
       "                  Name                                            Tagline  \\\n",
       "0            TrueClaim  Automatically saving self-insured companies 7%...   \n",
       "1            CoCrafter  B2B construction marketplace to match contract...   \n",
       "2               Reform                     Retool for logistics companies   \n",
       "3            Piramidal                     Foundation Model for the Brain   \n",
       "4  Junction Bioscience       AI Hypothesis Engine for Molecular Discovery   \n",
       "\n",
       "                                         Description Batch Company Type  \\\n",
       "0  TrueClaim processes all payments between healt...   W24       Active   \n",
       "1  CoCrafter is a construction marketplace to mat...   W24       Active   \n",
       "2  Reform makes it easy for logistics companies t...   W24       Active   \n",
       "3  Get instant diagnosis for the vast majority of...   W24       Active   \n",
       "4  Junction Bioscience is building an autonomous ...   W24       Active   \n",
       "\n",
       "                   Location                   Website URL  Year Founded  \\\n",
       "0    Location:San Francisco  https://www.trytrueclaim.com  Founded:2023   \n",
       "1  Location:Munich, Germany        https://cocrafter.com/  Founded:2023   \n",
       "2    Location:San Francisco      https://www.reformhq.com  Founded:2023   \n",
       "3    Location:San Francisco          https://piramidal.ai  Founded:2024   \n",
       "4    Location:San Francisco     https://www.junction.bio/  Founded:2024   \n",
       "\n",
       "     Team Size                                  LinkedIn Profile  ...  \\\n",
       "0  Team Size:2                   https://linkedin.com/in/rwbayer  ...   \n",
       "1  Team Size:3  https://www.linkedin.com/in/annabell-v-86a73b227  ...   \n",
       "2  Team Size:3                   https://linkedin.com/in/pradhit  ...   \n",
       "3  Team Size:2      https://linkedin.com/in/kris-pahuja-a59a905b  ...   \n",
       "4  Team Size:1     https://linkedin.com/in/brian-petkov-b2a63680  ...   \n",
       "\n",
       "                                  Founder2_Biography  \\\n",
       "0  Co-founder and CTO of TrueClaim (W24). Previou...   \n",
       "1  Building CoCrafter to empower the long-tail co...   \n",
       "2  Omar is the co-founder and president at Reform...   \n",
       "3  co-founder and all things product and business...   \n",
       "4                                               None   \n",
       "\n",
       "                      Founder2_LinkedIn Profile   Founder3_Name Founder3_Role  \\\n",
       "0               https://linkedin.com/in/rwbayer            None          None   \n",
       "1      https://linkedin.com/in/philipp-rollwage     Annabell V.          None   \n",
       "2        https://linkedin.com/in/omarabuhashish  Pradhit Gosula          None   \n",
       "3  https://linkedin.com/in/kris-pahuja-a59a905b            None          None   \n",
       "4                                          None            None          None   \n",
       "\n",
       "                                  Founder3_Biography  \\\n",
       "0                                               None   \n",
       "1  Building CoCrafter - a construction marketplac...   \n",
       "2  Pradhit is co-founder and CTO of Reform. Previ...   \n",
       "3                                               None   \n",
       "4                                               None   \n",
       "\n",
       "                          Founder3_LinkedIn Profile Founder4_Name  \\\n",
       "0                                              None          None   \n",
       "1  https://www.linkedin.com/in/annabell-v-86a73b227          None   \n",
       "2                   https://linkedin.com/in/pradhit          None   \n",
       "3                                              None          None   \n",
       "4                                              None          None   \n",
       "\n",
       "  Founder4_Role Founder4_Biography Founder4_LinkedIn Profile  \n",
       "0          None               None                      None  \n",
       "1          None               None                      None  \n",
       "2          None               None                      None  \n",
       "3          None               None                      None  \n",
       "4          None               None                      None  \n",
       "\n",
       "[5 rows x 29 columns]"
      ]
     },
     "execution_count": 146,
     "metadata": {},
     "output_type": "execute_result"
    }
   ],
   "source": [
    "df.head()"
   ]
  },
  {
   "cell_type": "code",
   "execution_count": 147,
   "id": "26dace83-03dc-44fd-acab-c7aad0521729",
   "metadata": {},
   "outputs": [
    {
     "name": "stdout",
     "output_type": "stream",
     "text": [
      "<class 'pandas.core.frame.DataFrame'>\n",
      "RangeIndex: 4270 entries, 0 to 4269\n",
      "Data columns (total 29 columns):\n",
      " #   Column                     Non-Null Count  Dtype \n",
      "---  ------                     --------------  ----- \n",
      " 0   Name                       4270 non-null   object\n",
      " 1   Tagline                    4270 non-null   object\n",
      " 2   Description                4270 non-null   object\n",
      " 3   Batch                      4270 non-null   object\n",
      " 4   Company Type               4270 non-null   object\n",
      " 5   Location                   4270 non-null   object\n",
      " 6   Website URL                4270 non-null   object\n",
      " 7   Year Founded               4270 non-null   object\n",
      " 8   Team Size                  4270 non-null   object\n",
      " 9   LinkedIn Profile           4270 non-null   object\n",
      " 10  Twitter Handle             3026 non-null   object\n",
      " 11  Industry Tags              0 non-null      object\n",
      " 12  url                        4270 non-null   object\n",
      " 13  Founder1_Name              3094 non-null   object\n",
      " 14  Founder1_Role              407 non-null    object\n",
      " 15  Founder1_Biography         3094 non-null   object\n",
      " 16  Founder1_LinkedIn Profile  3051 non-null   object\n",
      " 17  Founder2_Name              2491 non-null   object\n",
      " 18  Founder2_Role              171 non-null    object\n",
      " 19  Founder2_Biography         2491 non-null   object\n",
      " 20  Founder2_LinkedIn Profile  2427 non-null   object\n",
      " 21  Founder3_Name              734 non-null    object\n",
      " 22  Founder3_Role              54 non-null     object\n",
      " 23  Founder3_Biography         734 non-null    object\n",
      " 24  Founder3_LinkedIn Profile  698 non-null    object\n",
      " 25  Founder4_Name              123 non-null    object\n",
      " 26  Founder4_Role              7 non-null      object\n",
      " 27  Founder4_Biography         123 non-null    object\n",
      " 28  Founder4_LinkedIn Profile  114 non-null    object\n",
      "dtypes: object(29)\n",
      "memory usage: 967.6+ KB\n"
     ]
    }
   ],
   "source": [
    "df.info()"
   ]
  },
  {
   "cell_type": "code",
   "execution_count": 148,
   "id": "b8297486-a958-4839-a9a4-b4e157dff7e3",
   "metadata": {},
   "outputs": [
    {
     "data": {
      "text/plain": [
       "(4270, 29)"
      ]
     },
     "execution_count": 148,
     "metadata": {},
     "output_type": "execute_result"
    }
   ],
   "source": [
    "df.shape"
   ]
  },
  {
   "cell_type": "code",
   "execution_count": 149,
   "id": "143d6b3f-612b-4301-ba6d-528a8db29519",
   "metadata": {},
   "outputs": [
    {
     "data": {
      "text/plain": [
       "Index(['Name', 'Tagline', 'Description', 'Batch', 'Company Type', 'Location',\n",
       "       'Website URL', 'Year Founded', 'Team Size', 'LinkedIn Profile',\n",
       "       'Twitter Handle', 'Industry Tags', 'url', 'Founder1_Name',\n",
       "       'Founder1_Role', 'Founder1_Biography', 'Founder1_LinkedIn Profile',\n",
       "       'Founder2_Name', 'Founder2_Role', 'Founder2_Biography',\n",
       "       'Founder2_LinkedIn Profile', 'Founder3_Name', 'Founder3_Role',\n",
       "       'Founder3_Biography', 'Founder3_LinkedIn Profile', 'Founder4_Name',\n",
       "       'Founder4_Role', 'Founder4_Biography', 'Founder4_LinkedIn Profile'],\n",
       "      dtype='object')"
      ]
     },
     "execution_count": 149,
     "metadata": {},
     "output_type": "execute_result"
    }
   ],
   "source": [
    "df.columns"
   ]
  },
  {
   "cell_type": "markdown",
   "id": "cbd46bdd-f450-4033-8ce9-f2b72def1e4f",
   "metadata": {},
   "source": [
    "after initial exploration i can see that there so much missing data which consists of 29 columns ..so there is a need for data cleaning.."
   ]
  },
  {
   "cell_type": "markdown",
   "id": "88c2bef3-7fc2-4578-8332-8faa08990a85",
   "metadata": {},
   "source": [
    "#### DATA CLEANING\n"
   ]
  },
  {
   "cell_type": "code",
   "execution_count": 150,
   "id": "1f840613-cee3-4980-b9bf-5d762fae4454",
   "metadata": {},
   "outputs": [
    {
     "data": {
      "text/plain": [
       "0"
      ]
     },
     "execution_count": 150,
     "metadata": {},
     "output_type": "execute_result"
    }
   ],
   "source": [
    "df.duplicated().sum()   #checking if there is any duplicates"
   ]
  },
  {
   "cell_type": "code",
   "execution_count": 151,
   "id": "98f97a86-0832-4454-bacc-a5b8383a631c",
   "metadata": {},
   "outputs": [
    {
     "data": {
      "text/plain": [
       "Name                            0\n",
       "Tagline                         0\n",
       "Description                     0\n",
       "Batch                           0\n",
       "Company Type                    0\n",
       "Location                        0\n",
       "Website URL                     0\n",
       "Year Founded                    0\n",
       "Team Size                       0\n",
       "LinkedIn Profile                0\n",
       "Twitter Handle               1244\n",
       "Industry Tags                4270\n",
       "url                             0\n",
       "Founder1_Name                1176\n",
       "Founder1_Role                3863\n",
       "Founder1_Biography           1176\n",
       "Founder1_LinkedIn Profile    1219\n",
       "Founder2_Name                1779\n",
       "Founder2_Role                4099\n",
       "Founder2_Biography           1779\n",
       "Founder2_LinkedIn Profile    1843\n",
       "Founder3_Name                3536\n",
       "Founder3_Role                4216\n",
       "Founder3_Biography           3536\n",
       "Founder3_LinkedIn Profile    3572\n",
       "Founder4_Name                4147\n",
       "Founder4_Role                4263\n",
       "Founder4_Biography           4147\n",
       "Founder4_LinkedIn Profile    4156\n",
       "dtype: int64"
      ]
     },
     "execution_count": 151,
     "metadata": {},
     "output_type": "execute_result"
    }
   ],
   "source": [
    "df.isnull().sum()"
   ]
  },
  {
   "cell_type": "code",
   "execution_count": 152,
   "id": "dbabe36a-6e10-46a7-bafb-5a734bfffadb",
   "metadata": {},
   "outputs": [],
   "source": [
    "df.drop(['Industry Tags','Founder1_Name','Founder3_Name','Founder3_Role','Founder3_Biography','Founder3_LinkedIn Profile',\n",
    "         'Founder4_Name','Founder4_Role','Founder4_Biography','Founder4_LinkedIn Profile','Founder1_Role','Founder1_Biography','Founder1_LinkedIn Profile'\n",
    "        ,'Founder2_Name','Founder2_Role','Founder2_Biography','Founder2_LinkedIn Profile'], axis=1, inplace=True)   #removing unnecessary columns"
   ]
  },
  {
   "cell_type": "code",
   "execution_count": 153,
   "id": "d35ff578-6cd5-4b9c-9c77-5d126720df93",
   "metadata": {},
   "outputs": [],
   "source": [
    "df.drop(['url','Website URL'],axis=1, inplace=True)"
   ]
  },
  {
   "cell_type": "code",
   "execution_count": 154,
   "id": "5e1cce46-5d24-4b29-b232-0420f6193336",
   "metadata": {},
   "outputs": [
    {
     "data": {
      "text/plain": [
       "Index(['Name', 'Tagline', 'Description', 'Batch', 'Company Type', 'Location',\n",
       "       'Year Founded', 'Team Size', 'LinkedIn Profile', 'Twitter Handle'],\n",
       "      dtype='object')"
      ]
     },
     "execution_count": 154,
     "metadata": {},
     "output_type": "execute_result"
    }
   ],
   "source": [
    "df.columns"
   ]
  },
  {
   "cell_type": "code",
   "execution_count": 155,
   "id": "68b9db28-d310-40c5-b2fa-ed86ec14464d",
   "metadata": {},
   "outputs": [],
   "source": [
    "# Define the default value for Twitter handles\n",
    "default_twitter_handle = 'Not Available'\n",
    "\n",
    "# Replace null values in 'Twitter Handle' column with the default value\n",
    "df['Twitter Handle'].fillna(default_twitter_handle, inplace=True)\n"
   ]
  },
  {
   "cell_type": "code",
   "execution_count": 156,
   "id": "77897340-8382-4598-931a-3f6d86abac6d",
   "metadata": {},
   "outputs": [
    {
     "data": {
      "text/plain": [
       "Name                0\n",
       "Tagline             0\n",
       "Description         0\n",
       "Batch               0\n",
       "Company Type        0\n",
       "Location            0\n",
       "Year Founded        0\n",
       "Team Size           0\n",
       "LinkedIn Profile    0\n",
       "Twitter Handle      0\n",
       "dtype: int64"
      ]
     },
     "execution_count": 156,
     "metadata": {},
     "output_type": "execute_result"
    }
   ],
   "source": [
    "df.isnull().sum()"
   ]
  },
  {
   "cell_type": "code",
   "execution_count": 157,
   "id": "e6b5aa2b-8158-47a8-955b-611bee2f0235",
   "metadata": {},
   "outputs": [],
   "source": [
    "#cleaning team size column to extract only numerical values\n",
    "df['Year Founded'] = df['Year Founded'].str.extract(r'Founded:\\s*(\\d+)', expand=False).astype(float)"
   ]
  },
  {
   "cell_type": "code",
   "execution_count": 158,
   "id": "51aa7919-abae-471c-911c-873e2215e17b",
   "metadata": {},
   "outputs": [],
   "source": [
    "# Convert 'Year Founded' to datetime\n",
    "df['Year Founded'] = pd.to_datetime(df['Year Founded'], format='%Y')"
   ]
  },
  {
   "cell_type": "code",
   "execution_count": 159,
   "id": "bee90a58-6043-4c77-9402-472da8e60f39",
   "metadata": {},
   "outputs": [],
   "source": [
    "#cleaning team size column to extract only numerical values\n",
    "df['Team Size'] = df['Team Size'].str.extract(r'Team Size:\\s*(\\d+)', expand=False).astype(float)"
   ]
  },
  {
   "cell_type": "code",
   "execution_count": 160,
   "id": "95dbf562-2824-46d7-93cd-7bd24e21d711",
   "metadata": {},
   "outputs": [
    {
     "name": "stdout",
     "output_type": "stream",
     "text": [
      "<class 'pandas.core.frame.DataFrame'>\n",
      "RangeIndex: 4270 entries, 0 to 4269\n",
      "Data columns (total 10 columns):\n",
      " #   Column            Non-Null Count  Dtype         \n",
      "---  ------            --------------  -----         \n",
      " 0   Name              4270 non-null   object        \n",
      " 1   Tagline           4270 non-null   object        \n",
      " 2   Description       4270 non-null   object        \n",
      " 3   Batch             4270 non-null   object        \n",
      " 4   Company Type      4270 non-null   object        \n",
      " 5   Location          4270 non-null   object        \n",
      " 6   Year Founded      3354 non-null   datetime64[ns]\n",
      " 7   Team Size         4204 non-null   float64       \n",
      " 8   LinkedIn Profile  4270 non-null   object        \n",
      " 9   Twitter Handle    4270 non-null   object        \n",
      "dtypes: datetime64[ns](1), float64(1), object(8)\n",
      "memory usage: 333.7+ KB\n"
     ]
    }
   ],
   "source": [
    "df.info()"
   ]
  },
  {
   "cell_type": "markdown",
   "id": "7e55e599-91d7-4b2b-88e7-f42b5b079ad8",
   "metadata": {},
   "source": [
    "#### VISUALIZATIONS"
   ]
  },
  {
   "cell_type": "code",
   "execution_count": 161,
   "id": "ff681877-9a94-48df-990c-d0d2464bebc5",
   "metadata": {},
   "outputs": [],
   "source": [
    "import pandas as pd\n",
    "import matplotlib.pyplot as plt\n",
    "import seaborn as sns"
   ]
  },
  {
   "cell_type": "code",
   "execution_count": 162,
   "id": "2a33320b-7c93-4377-9d8e-1fef92900378",
   "metadata": {},
   "outputs": [],
   "source": [
    "#univarite analysis"
   ]
  },
  {
   "cell_type": "code",
   "execution_count": 163,
   "id": "93ceb7fd-7878-4a15-acc4-51e1a96498d0",
   "metadata": {},
   "outputs": [
    {
     "data": {
      "image/png": "[encoded data removed]",
      "text/plain": [
       "<Figure size 1200x500 with 1 Axes>"
      ]
     },
     "metadata": {},
     "output_type": "display_data"
    }
   ],
   "source": [
    "# BATCH\n",
    "plt.figure(figsize=(12, 5))\n",
    "sns.countplot(data=df, x='Batch')\n",
    "plt.title('Frequency of Companies in Batches')\n",
    "plt.xlabel('Batch')\n",
    "plt.ylabel('Count')\n",
    "plt.show()"
   ]
  },
  {
   "cell_type": "code",
   "execution_count": 164,
   "id": "3cac90e6-4c2d-464c-8ade-2bee44e59d0b",
   "metadata": {},
   "outputs": [
    {
     "data": {
      "image/png": "[encoded data removed]",
      "text/plain": [
       "<Figure size 600x600 with 1 Axes>"
      ]
     },
     "metadata": {},
     "output_type": "display_data"
    }
   ],
   "source": [
    "# Company Type\n",
    "plt.figure(figsize=(6, 6))\n",
    "df['Company Type'].value_counts().plot(kind='pie', autopct='%1.1f%%', colors=['orange', 'lightgreen','green','yellow'])\n",
    "plt.title('Distribution of Company Types')\n",
    "plt.ylabel('')\n",
    "plt.show()"
   ]
  },
  {
   "cell_type": "code",
   "execution_count": 165,
   "id": "e35c9c82-8ea6-4046-9cbd-0bc0c65a4851",
   "metadata": {},
   "outputs": [
    {
     "name": "stderr",
     "output_type": "stream",
     "text": [
      "C:\\Users\\user\\anaconda3\\Lib\\site-packages\\seaborn\\_oldcore.py:1119: FutureWarning: use_inf_as_na option is deprecated and will be removed in a future version. Convert inf values to NaN before operating instead.\n",
      "  with pd.option_context('mode.use_inf_as_na', True):\n"
     ]
    },
    {
     "data": {
      "image/png": "[encoded data removed]",
      "text/plain": [
       "<Figure size 800x500 with 1 Axes>"
      ]
     },
     "metadata": {},
     "output_type": "display_data"
    }
   ],
   "source": [
    "# Year Founded\n",
    "plt.figure(figsize=(8, 5))\n",
    "sns.histplot(data=df, x='Year Founded', bins=10, kde=True)\n",
    "plt.title('Distribution of Year Founded')\n",
    "plt.xlabel('Year')\n",
    "plt.ylabel('Count')\n",
    "plt.show()"
   ]
  },
  {
   "cell_type": "markdown",
   "id": "fe29ea00-a31f-4ce4-bbb8-4ecefa58b46b",
   "metadata": {},
   "source": [
    "In the period of 2018-2022, there is large number of companies started.."
   ]
  },
  {
   "cell_type": "code",
   "execution_count": 166,
   "id": "a17f5ee1-fb44-4e2c-ba74-84a8e27a012f",
   "metadata": {},
   "outputs": [],
   "source": [
    "# Bivariate analysis"
   ]
  },
  {
   "cell_type": "code",
   "execution_count": 167,
   "id": "90f2b115-596c-4a45-a759-acd409c84e7e",
   "metadata": {},
   "outputs": [
    {
     "data": {
      "image/png": "[encoded data removed]",
      "text/plain": [
       "<Figure size 800x500 with 1 Axes>"
      ]
     },
     "metadata": {},
     "output_type": "display_data"
    }
   ],
   "source": [
    "# Scatter plot for Year Founded vs Team Size\n",
    "plt.figure(figsize=(8, 5))\n",
    "sns.scatterplot(data=df, x='Year Founded', y='Team Size')\n",
    "plt.title('Year Founded vs Team Size')\n",
    "plt.xlabel('Year Founded')\n",
    "plt.ylabel('Team Size')\n",
    "plt.show()"
   ]
  },
  {
   "cell_type": "code",
   "execution_count": 168,
   "id": "242a141b-0d27-4e4d-9b4b-c75a1290a352",
   "metadata": {},
   "outputs": [
    {
     "data": {
      "image/png": "[encoded data removed]",
      "text/plain": [
       "<Figure size 800x500 with 1 Axes>"
      ]
     },
     "metadata": {},
     "output_type": "display_data"
    }
   ],
   "source": [
    "# Box plot for Company Type vs Team Size\n",
    "plt.figure(figsize=(8, 5))\n",
    "sns.boxplot(data=df, x='Company Type', y='Team Size')\n",
    "plt.title('Company Type vs Team Size')\n",
    "plt.xlabel('Company Type')\n",
    "plt.ylabel('Team Size')\n",
    "plt.show()"
   ]
  },
  {
   "cell_type": "markdown",
   "id": "fbd36226-633b-4835-98f1-d090d1b8c42d",
   "metadata": {},
   "source": [
    "it indicate that companies in the 'Public' category tend to have larger or more defined team sizes compared to others.\n",
    "This could imply differences in organizational structure, resources, or business models between publicly traded companies and other types of companies."
   ]
  },
  {
   "cell_type": "code",
   "execution_count": 169,
   "id": "831f5bad-d447-4357-bca8-ace4fe71fa09",
   "metadata": {},
   "outputs": [],
   "source": [
    "# Correlation Analysis"
   ]
  },
  {
   "cell_type": "code",
   "execution_count": 170,
   "id": "34525ec5-911b-4f09-895b-1490bf34bdef",
   "metadata": {},
   "outputs": [
    {
     "name": "stdout",
     "output_type": "stream",
     "text": [
      "              Year Founded  Team Size\n",
      "Year Founded      1.000000   0.038039\n",
      "Team Size         0.038039   1.000000\n"
     ]
    }
   ],
   "source": [
    "# Calculate correlation matrix\n",
    "correlation_matrix = df[['Year Founded', 'Team Size']].corr()\n",
    "print(correlation_matrix)"
   ]
  },
  {
   "cell_type": "code",
   "execution_count": 171,
   "id": "d64e44ba-c198-45c7-b2f1-36148f2c2e3f",
   "metadata": {},
   "outputs": [
    {
     "data": {
      "image/png": "[encoded data removed]",
      "text/plain": [
       "<Figure size 800x500 with 2 Axes>"
      ]
     },
     "metadata": {},
     "output_type": "display_data"
    }
   ],
   "source": [
    "# Heatmap for correlation matrix\n",
    "plt.figure(figsize=(8, 5))\n",
    "sns.heatmap(correlation_matrix, annot=True, cmap='coolwarm', fmt=\".2f\")\n",
    "plt.title('Correlation Matrix')\n",
    "plt.show()"
   ]
  },
  {
   "cell_type": "markdown",
   "id": "47e1c2bc-8180-4ac9-831e-b7bc8a07d9c8",
   "metadata": {},
   "source": [
    "The correlation coefficient of approximately 0.038 suggests a very weak positive correlation between the year a company was founded and its team size.\r\n",
    "This weak correlation indicates that there is little to no linear relationship between the year a company was founded and its team size."
   ]
  },
  {
   "cell_type": "code",
   "execution_count": null,
   "id": "7586100b-270f-422d-be7b-ce0b9b228bd5",
   "metadata": {},
   "outputs": [],
   "source": []
  }
 ],
 "metadata": {
  "kernelspec": {
   "display_name": "Python 3 (ipykernel)",
   "language": "python",
   "name": "python3"
  },
  "language_info": {
   "codemirror_mode": {
    "name": "ipython",
    "version": 3
   },
   "file_extension": ".py",
   "mimetype": "text/x-python",
   "name": "python",
   "nbconvert_exporter": "python",
   "pygments_lexer": "ipython3",
   "version": "3.11.7"
  }
 },
 "nbformat": 4,
 "nbformat_minor": 5
}
